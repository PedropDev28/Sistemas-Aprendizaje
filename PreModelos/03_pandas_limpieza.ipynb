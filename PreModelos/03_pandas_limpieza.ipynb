{
 "cells": [
  {
   "cell_type": "markdown",
   "metadata": {
    "id": "1BtmnycVizFt"
   },
   "source": [
    "# **Limpieza de datos en Pandas: Explicado con ejemplos**\n",
    "\n",
    "*Eliminar o transformar datos erróneos e irrelevantes*: Estos representan información fuera de contexto en nuestra base de datos, por ejemplo tener la variable precio de venta en números negativos.\n",
    "\n",
    "Vamos a aprender a realizar la limpieza de un dataFrame con un caso prático: vamos a utilizar un DataSet que analiza los ataquetas de tiburones por paises."
   ]
  },
  {
   "cell_type": "code",
   "execution_count": null,
   "metadata": {
    "id": "Y6mv4tHGibrE"
   },
   "outputs": [],
   "source": [
    "import pandas as pd\n",
    "\n",
    "#desde csv\n",
    "ataques = pd.read_excel(\"shark attack.xlsx\")\n",
    "ataques.head()\n",
    "\n"
   ]
  },
  {
   "cell_type": "markdown",
   "metadata": {},
   "source": [
    "<h3>Paso 1: Observaciones iniciales:</h3>\n",
    "\n",
    "<ol><li><strong>Dimensiones</strong></li><li><strong>Nombres de columnas</strong></li><li><strong>Tipos de datos</strong>"
   ]
  },
  {
   "cell_type": "code",
   "execution_count": null,
   "metadata": {
    "colab": {
     "base_uri": "https://localhost:8080/"
    },
    "id": "YwAgn92Nn_Ud",
    "outputId": "9d5c2e74-17cf-46c1-e2bf-7b5c72aea0db"
   },
   "outputs": [],
   "source": [
    "#Vemos las dimesiones, sus columnas y sus tipos\n",
    "print(ataques.shape)\n",
    "print(ataques.columns)\n",
    "print(ataques.dtypes)\n",
    "\n",
    "#¿Cuáles son los únicos que no contienen texto?"
   ]
  },
  {
   "cell_type": "markdown",
   "metadata": {},
   "source": [
    "<h3>Paso 2: Resumen general de los datos:</h3>"
   ]
  },
  {
   "cell_type": "code",
   "execution_count": null,
   "metadata": {},
   "outputs": [],
   "source": [
    "# Estadísticas básicas para columnas numéricas\n",
    "print(ataques.describe())\n"
   ]
  },
  {
   "cell_type": "markdown",
   "metadata": {
    "id": "Bdf0XA8no9mB"
   },
   "source": [
    "<h3>Paso 3: Limpieza de datos:</h3>\n",
    "\n",
    "Para preparar la limpieza de datos,vamos a realizar una serie de comprobaciones:\n",
    "\n",
    "<ol><li><strong>\n",
    "Eliminar columnas innecesarias</strong>:<strong>Número de columnas y nombres</strong>: Hay 23 columnas. Algunas parecen redundantes, como <code>Case Number</code>, <code>Case Number.1</code>, y <code>Case Number.2</code>. Columnas como Unnamed: 21, Unnamed: 22, y otras redundantes pueden ser eliminadas.</li><li><strong>Valores nulos</strong>: Existen columnas con valores nulos, como <code>Age</code> y <code>Species</code>.</li><li><strong>Nombres poco claros</strong>: Algunas columnas como <code>Unnamed: 21</code> y <code>Unnamed: 22</code> parecen no tener información útil.</li><li><strong>Tipos de datos</strong>: Algunos parecen inconsistentes, como <code>Age</code> que podría estar mezclando números y texto.</li></ol>\n",
    "\n"
   ]
  },
  {
   "cell_type": "markdown",
   "metadata": {},
   "source": [
    "**1. Análisis de información de columnas. ¿Sobrán columnas ? , ¿ Es información válida ?**\n",
    "\n",
    "Podemos usar el método isnull().sum() para contar los valores nulos y nunique() para verificar cuántos valores únicos tiene cada columna:"
   ]
  },
  {
   "cell_type": "code",
   "execution_count": null,
   "metadata": {},
   "outputs": [],
   "source": [
    "# Contar valores nulos en cada columna\n",
    "print(ataques.isnull().sum())"
   ]
  },
  {
   "cell_type": "code",
   "execution_count": null,
   "metadata": {},
   "outputs": [],
   "source": [
    "# Contar valores únicos en cada columna\n",
    "print(ataques.nunique())"
   ]
  },
  {
   "cell_type": "code",
   "execution_count": null,
   "metadata": {},
   "outputs": [],
   "source": [
    "#Comprobar correlaciones o patrones en columnas redundantes\n",
    "# Si las columnas parecen ser duplicados de otras, puedes verificar si son iguales:\n",
    "# Comparar columnas aparentemente duplicadas\n",
    "print(ataques['Case Number'].equals(ataques['Case Number.1']))\n",
    "print(ataques['Case Number'].equals(ataques['Case Number.2']))\n",
    "\n"
   ]
  },
  {
   "cell_type": "code",
   "execution_count": null,
   "metadata": {},
   "outputs": [],
   "source": [
    "valores_distintos = set(ataques['Case Number'])-(set(ataques['Case Number.1']))\n",
    "print(valores_distintos)"
   ]
  },
  {
   "cell_type": "code",
   "execution_count": null,
   "metadata": {
    "colab": {
     "base_uri": "https://localhost:8080/"
    },
    "id": "Y0RbYHhF58Kp",
    "outputId": "0fce896d-1ae3-4dea-a280-ea6ff51964fa"
   },
   "outputs": [],
   "source": [
    "# Usar la función set de Python para encontrar valores distintos\n",
    "valores_distintos = set(ataques['href'])-(set(ataques['href formula']))\n",
    "len(valores_distintos)"
   ]
  },
  {
   "cell_type": "markdown",
   "metadata": {},
   "source": [
    "**Eliminamos columnas repetidas. Drop**\n",
    "\n",
    "Una vez que hemos analizado y observado las columnas, tomamos decisiones.\n",
    "\n",
    "<div class=\"markdown prose w-full break-words dark:prose-invert light\"><hr><h4><strong> Cuándo eliminar una columna repetida</strong></h4><h4>Reglas comunes:</h4><ul><li><p><strong>Similitud alta (95-100%)</strong>:</p><ul><li>Si las columnas son casi idénticas (por ejemplo, más del 95% iguales), una de ellas puede ser eliminada por redundancia.</li><li>Ejemplo: <code>Case Number</code> y <code>Case Number.1</code> podrían ser redundantes.</li></ul></li><li><p><strong>Diferencias menores (5-10%)</strong>:</p><ul><li>Si hay pequeñas diferencias pero el significado de la columna es idéntico (por ejemplo, errores tipográficos o formatos distintos), puedes mantener una sola versión y corregir los valores diferentes.</li></ul></li><li><p><strong>Diferencias significativas (&gt;20%)</strong>:</p><ul><li>Si más del 20% de los valores son diferentes, probablemente ambas columnas contengan información valiosa y no debas eliminarlas.</li></ul></li></ul><hr><h4><strong>Decisiones basadas en el contexto</strong></h4><ul><li><strong>Columnas derivadas automáticamente</strong>: Por ejemplo, columnas generadas durante una exportación de datos (<code>Unnamed</code>, <code>href formula</code>) suelen ser candidatas para eliminación inmediata.</li><li><strong>Redundancia conceptual</strong>: Si dos columnas representan lo mismo (como códigos y descripciones que son equivalentes), mantén la que sea más útil para el análisis.</li><li><strong>Información única</strong>: Si una columna aparentemente redundante contiene información única en ciertas filas, evalúa si puedes combinar ambas columnas.</li></ul><hr></p></div>"
   ]
  },
  {
   "cell_type": "code",
   "execution_count": null,
   "metadata": {},
   "outputs": [],
   "source": [
    "# Calcular similitud entre las columnas\n",
    "# [1, 1, 0, 1]  # True -> 1, False -> 0\n",
    "similaridad = (ataques['href'] == ataques['href formula']).mean() * 100\n",
    "print(f\"Porcentaje de valores iguales: {similaridad:0.2f}%\")\n"
   ]
  },
  {
   "cell_type": "code",
   "execution_count": null,
   "metadata": {},
   "outputs": [],
   "source": [
    "similaridad = (ataques['Case Number'] == ataques['Case Number.1']).mean() * 100\n",
    "print(f\"Porcentaje de valores iguales: {similaridad:0.2f}%\")\n",
    "\n"
   ]
  },
  {
   "cell_type": "code",
   "execution_count": null,
   "metadata": {},
   "outputs": [],
   "source": [
    "# Eliminar columnas innecesarias\n",
    "ataques = ataques.drop(columns=['Unnamed: 21', 'Unnamed: 22', 'Case Number.1', 'Case Number.2', 'href formula'])"
   ]
  },
  {
   "cell_type": "markdown",
   "metadata": {},
   "source": [
    "\n",
    "**2. Detección de datos nulos**\n",
    "\n",
    "La función *pandas.isnull()* devuelve una estructura con las mismas dimensiones sustituyendo cada valor por el booleano True si el correspondiente elemento es un valor nulo, y por el booleano False en caso contrario."
   ]
  },
  {
   "cell_type": "code",
   "execution_count": null,
   "metadata": {
    "id": "I_-WhsBwBwBL"
   },
   "outputs": [],
   "source": [
    "null_cols_values = ataques.isnull()\n"
   ]
  },
  {
   "cell_type": "code",
   "execution_count": null,
   "metadata": {
    "colab": {
     "base_uri": "https://localhost:8080/"
    },
    "id": "U3DxEnHMpHZ_",
    "outputId": "860378df-9f01-4d97-9d63-b374ce2ec43d"
   },
   "outputs": [],
   "source": [
    "null_cols = ataques.isnull().sum()\n",
    "null_cols"
   ]
  },
  {
   "cell_type": "markdown",
   "metadata": {
    "id": "IV2EjJTtAIWK"
   },
   "source": [
    "<hr><h4><p><strong>Lidiar con valores nulos: Dependiendo de la columna, se pueden rellenar valores nulos, eliminarlos o mantenerlos</strong></h4>\n",
    "\n",
    "El método *fillna()* permite sustituir los valores nulos de una estructura pandas por otro valor según ciertos criterios.\n",
    "\n",
    "Pueden sustituirse por un valor concreto o bien puede utilizarse el anterior o posterior valor no nulo.\n",
    "\n",
    "Para Age: Rellenar con la mediana o un valor específico si es relevante.\n",
    "Para Species: Rellenar con \"Desconocido\" si es categórico.\n",
    "\n"
   ]
  },
  {
   "cell_type": "code",
   "execution_count": null,
   "metadata": {
    "id": "QvwwmnFJFi2m"
   },
   "outputs": [],
   "source": [
    "# Rellenar nulos con la mediana\n",
    "ataques.fillna({'Age': ataques['Age'].median()}, inplace=True)\n",
    "print(null_cols)\n",
    "\n"
   ]
  },
  {
   "cell_type": "code",
   "execution_count": null,
   "metadata": {},
   "outputs": [],
   "source": [
    "# Convertir edades a numéricom y pone a nulos los que no se pueden cambiar\n",
    "ataques['Age'] = pd.to_numeric(ataques['Age'], errors='coerce') "
   ]
  },
  {
   "cell_type": "code",
   "execution_count": null,
   "metadata": {},
   "outputs": [],
   "source": [
    "ataques.fillna({'species':'Unknown'}, inplace=True)           # Rellenar valores nulos con \"Unknown\""
   ]
  },
  {
   "cell_type": "code",
   "execution_count": null,
   "metadata": {
    "colab": {
     "base_uri": "https://localhost:8080/",
     "height": 516
    },
    "id": "hcfIMKx8hISJ",
    "outputId": "9aac7e26-39e4-4a90-b8d0-3e5db79e4dd0"
   },
   "outputs": [],
   "source": [
    "null_cols = ataques.isnull().sum()\n",
    "null_cols"
   ]
  },
  {
   "cell_type": "markdown",
   "metadata": {
    "id": "Icegign2gnnD"
   },
   "source": [
    "<hr><h4><p><strong>Seguiríamos investigando y trabajando con el resto de columnas disponibles...</strong></h4><hr>"
   ]
  },
  {
   "cell_type": "markdown",
   "metadata": {
    "id": "acJY9jnWi6Td"
   },
   "source": [
    "Analizamos ahora la columna Sex,antes de nada, observamos que el nombre de la columna tiene un espacio\n",
    "set(ataques['Sex '])\n",
    "\n",
    "¿Qué podemos hacer? Con **str.strip()** eliminanos los caracteres de espacio en blanco al principio y al final de cada cadena, dejando el contenido de la cadena intacto. También puede recibir un argumento opcional que te permite especificar qué caracteres deseas eliminar en lugar de los espacios en blanco."
   ]
  },
  {
   "cell_type": "code",
   "execution_count": null,
   "metadata": {
    "colab": {
     "base_uri": "https://localhost:8080/"
    },
    "id": "tc2pO8iZsQol",
    "outputId": "742f5c13-465c-4ec4-c60c-eb80889ef905"
   },
   "outputs": [],
   "source": [
    "\n",
    "ataques.columns = ataques.columns.str.strip()\n",
    "ataques.columns"
   ]
  },
  {
   "cell_type": "code",
   "execution_count": null,
   "metadata": {
    "colab": {
     "base_uri": "https://localhost:8080/"
    },
    "id": "xhwviZlQsbmX",
    "outputId": "3eee2292-b6b4-47ea-9cfe-d6e236e0c428"
   },
   "outputs": [],
   "source": [
    "#Ahora si observamos los datos:\n",
    "set(ataques['Sex'])\n",
    "\n"
   ]
  },
  {
   "cell_type": "code",
   "execution_count": null,
   "metadata": {
    "colab": {
     "base_uri": "https://localhost:8080/"
    },
    "id": "XkKBMLa7ohW3",
    "outputId": "d750397a-a524-4a25-b01c-245f532bfabe"
   },
   "outputs": [],
   "source": [
    "# Analizamos ahora la columna Fatal (Y/N),con la operación set mostramos el conjunto de valores que tenemos\n",
    "set(ataques['Fatal (Y/N)'])"
   ]
  },
  {
   "cell_type": "code",
   "execution_count": null,
   "metadata": {
    "colab": {
     "base_uri": "https://localhost:8080/"
    },
    "id": "MaCif4LAotGA",
    "outputId": "696b81bc-9edb-4d94-eb7d-0f6044cf6378"
   },
   "outputs": [],
   "source": [
    "len(set(ataques['Fatal (Y/N)']))\n"
   ]
  },
  {
   "cell_type": "markdown",
   "metadata": {
    "id": "Y0enepFiiFG-"
   },
   "source": [
    "Lo unificamos paso a paso, objetivo, conseguir este set:\n",
    "{'Y', 'N', 'U'}"
   ]
  },
  {
   "cell_type": "code",
   "execution_count": null,
   "metadata": {},
   "outputs": [],
   "source": [
    "# Los unificamos paso a paso\n",
    "#quitamos espacios vacios\n",
    "ataques['Fatal (Y/N)'] = ataques['Fatal (Y/N)'].str.strip()\n",
    "#reemplazamos los nulos por U\n",
    "ataques['Fatal (Y/N)'] = ataques['Fatal (Y/N)'].fillna('U')\n",
    "#reemplazamos los nulos por U\n",
    "ataques['Fatal (Y/N)'] = ataques['Fatal (Y/N)'].str.\n",
    "......"
   ]
  },
  {
   "cell_type": "code",
   "execution_count": null,
   "metadata": {},
   "outputs": [],
   "source": [
    "#Cambiar nombre 'Fatal (Y/N)' a 'Fatal (Y/N/U)'\n",
    "ataques.rename(columns={'Fatal (Y/N)': 'Fatal (Y/N/U)'}, inplace=True)"
   ]
  },
  {
   "cell_type": "markdown",
   "metadata": {
    "id": "5wSgIXItsu7h"
   },
   "source": [
    "# EJERCICIO:\n",
    "\n",
    "1. Limpiamos columna Sex\n",
    "2. Columna Country\n",
    "3. Reemplazar los valores nulos de la columna 'Species' con 'Unknown'\n",
    "4. Guarda el resultado en un csv nuevo"
   ]
  },
  {
   "cell_type": "code",
   "execution_count": null,
   "metadata": {},
   "outputs": [],
   "source": [
    "# Limpiamos la columna Sex\n",
    "ataques['Sex']"
   ]
  }
 ],
 "metadata": {
  "colab": {
   "provenance": []
  },
  "kernelspec": {
   "display_name": "Python 3",
   "name": "python3"
  },
  "language_info": {
   "codemirror_mode": {
    "name": "ipython",
    "version": 3
   },
   "file_extension": ".py",
   "mimetype": "text/x-python",
   "name": "python",
   "nbconvert_exporter": "python",
   "pygments_lexer": "ipython3",
   "version": "3.13.0"
  }
 },
 "nbformat": 4,
 "nbformat_minor": 0
}
