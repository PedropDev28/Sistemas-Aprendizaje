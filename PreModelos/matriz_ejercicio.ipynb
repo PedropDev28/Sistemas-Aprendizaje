{
 "cells": [
  {
   "cell_type": "markdown",
   "metadata": {},
   "source": [
    "## **Ejercicio Operaciones con Arrays NumPy**"
   ]
  },
  {
   "cell_type": "code",
   "execution_count": 9,
   "metadata": {},
   "outputs": [],
   "source": [
    "import numpy as np"
   ]
  },
  {
   "cell_type": "markdown",
   "metadata": {},
   "source": [
    "### 1. Inicializa un array NumPy llamado matriz con una forma de (3, 3) que contenga los números enteros del 1 al 9 (inclusive) dispuestos en filas, usando la función correspondiente. Es decir, la matriz debe verse así:\n",
    "\n",
    "\n",
    "      [[1, 2, 3],\n",
    "      [4, 5, 6],\n",
    "      [7, 8, 9]]"
   ]
  },
  {
   "cell_type": "code",
   "execution_count": 22,
   "metadata": {},
   "outputs": [
    {
     "name": "stdout",
     "output_type": "stream",
     "text": [
      "[[1 2 3]\n",
      " [4 5 6]\n",
      " [7 8 9]]\n"
     ]
    }
   ],
   "source": [
    "matriz_ejercicio = np.arange(1,10).reshape(3,3)\n",
    "print(matriz_ejercicio)\t"
   ]
  },
  {
   "cell_type": "markdown",
   "metadata": {},
   "source": [
    "### 2. Accede e imprime el elemento en la segunda fila y la tercera columna de la matriz."
   ]
  },
  {
   "cell_type": "code",
   "execution_count": 7,
   "metadata": {},
   "outputs": [
    {
     "name": "stdout",
     "output_type": "stream",
     "text": [
      "6\n"
     ]
    }
   ],
   "source": [
    "print(matriz_ejercicio[1,2])"
   ]
  },
  {
   "cell_type": "markdown",
   "metadata": {},
   "source": [
    "### 3. Utiliza una función para crear un nuevo array llamado nuevo_array que contenga los números pares del 10 al 20 (inclusive). Luego, redimensiona este nuevo array a una forma de (2, ?)."
   ]
  },
  {
   "cell_type": "code",
   "execution_count": 8,
   "metadata": {},
   "outputs": [
    {
     "name": "stdout",
     "output_type": "stream",
     "text": [
      "[10 12 14 16 18 20]\n",
      "[[10 12 14]\n",
      " [16 18 20]]\n"
     ]
    }
   ],
   "source": [
    "\n",
    "nuevo_array = np.arange(10,21,2)\n",
    "\n",
    "print(nuevo_array)\n",
    "\n",
    "nuevo_array = nuevo_array.reshape(2,-1)\n",
    "\n",
    "print(nuevo_array)"
   ]
  },
  {
   "cell_type": "markdown",
   "metadata": {},
   "source": [
    "### 4. Crea un array NumPy llamado unos que sea una matriz de unos con una forma de (3, 4)."
   ]
  },
  {
   "cell_type": "code",
   "execution_count": 11,
   "metadata": {},
   "outputs": [
    {
     "name": "stdout",
     "output_type": "stream",
     "text": [
      "[[1. 1. 1. 1.]\n",
      " [1. 1. 1. 1.]\n",
      " [1. 1. 1. 1.]]\n"
     ]
    }
   ],
   "source": [
    "matriz_unos = np.ones((3,4))\n",
    "print(matriz_unos)"
   ]
  },
  {
   "cell_type": "markdown",
   "metadata": {},
   "source": [
    "### 5. Redimensiona la matriz unos a una forma de (2, 6) utilizando la función reshape y de (6,2) utilizando resize. ¿Qué diferencia hay?"
   ]
  },
  {
   "cell_type": "code",
   "execution_count": 13,
   "metadata": {},
   "outputs": [
    {
     "name": "stdout",
     "output_type": "stream",
     "text": [
      "[[1. 1. 1. 1. 1. 1.]\n",
      " [1. 1. 1. 1. 1. 1.]]\n",
      "[[1. 1. 1. 1. 1. 1.]\n",
      " [1. 1. 1. 1. 1. 1.]]\n"
     ]
    }
   ],
   "source": [
    "#con reshape\n",
    "matriz_unos = matriz_unos.reshape(2,6)\n",
    "\n",
    "print(matriz_unos)\n",
    "\n",
    "#con resize\n",
    "\n",
    "matriz_unos.resize(2,6)\n",
    "\n",
    "print(matriz_unos)"
   ]
  },
  {
   "cell_type": "markdown",
   "metadata": {},
   "source": [
    "La diferencia principal y que se puede observar a simple vista es que con reshape no se modifica la matriz o array original, mientras que resize hace una modificación directa de la matriz o array original"
   ]
  },
  {
   "cell_type": "markdown",
   "metadata": {},
   "source": [
    "## **Ejercicio: Operaciones de rebanado** "
   ]
  },
  {
   "cell_type": "markdown",
   "metadata": {},
   "source": [
    "### 1. Crear una matriz bidimensional (3, 4), con números consecutivos de 1 a 12, con numpy."
   ]
  },
  {
   "cell_type": "code",
   "execution_count": 23,
   "metadata": {},
   "outputs": [
    {
     "name": "stdout",
     "output_type": "stream",
     "text": [
      "[[ 1  2  3  4]\n",
      " [ 5  6  7  8]\n",
      " [ 9 10 11 12]]\n"
     ]
    }
   ],
   "source": [
    "matriz_ejercicio2 = np.arange(1,13).reshape(3,4)\n",
    "print(matriz_ejercicio2)"
   ]
  },
  {
   "cell_type": "markdown",
   "metadata": {},
   "source": [
    "### 2. Crear un vector unidimensional, de 4 elementos, que vaya de 10 en 10"
   ]
  },
  {
   "cell_type": "code",
   "execution_count": 24,
   "metadata": {},
   "outputs": [
    {
     "name": "stdout",
     "output_type": "stream",
     "text": [
      "[10 20 30 40]\n"
     ]
    }
   ],
   "source": [
    "vector_10en10 = np.arange(10,41,10)\n",
    "print(vector_10en10)"
   ]
  },
  {
   "cell_type": "markdown",
   "metadata": {},
   "source": [
    "### 3. Rebanado de la matriz:\n",
    "\n",
    "    Seleccionar la segunda fila completa\n",
    "\n",
    "    Seleccionar la tercera columna completa\n",
    "\n",
    "    Seleccionar una submatriz, con las filas 0 y 1 de la matriz original, y las columnas 1 y 2 de la matriz original."
   ]
  },
  {
   "cell_type": "code",
   "execution_count": 25,
   "metadata": {},
   "outputs": [
    {
     "name": "stdout",
     "output_type": "stream",
     "text": [
      "[5 6 7 8]\n",
      "[ 3  7 11]\n",
      "[[2 3]\n",
      " [6 7]]\n"
     ]
    }
   ],
   "source": [
    "#Rebanado de matriz\n",
    "# Seleccionar la segunda fila de la matriz\n",
    "print(matriz_ejercicio2[1,:])\n",
    "\n",
    "# Seleccionar la tercera columna completa\n",
    "print(matriz_ejercicio2[:,2])\n",
    "\n",
    "# Seleccionar la submatriz, con las filas 0 y 1 de la matriz original y las columnas 1 y 2 de la matriz original\n",
    "print(matriz_ejercicio2[0:2,1:3])"
   ]
  },
  {
   "cell_type": "markdown",
   "metadata": {},
   "source": [
    "\n",
    "### 4. Rebanado del vector:\n",
    "\n",
    "    Seleccionar los primeros 3 elementos"
   ]
  },
  {
   "cell_type": "code",
   "execution_count": 26,
   "metadata": {},
   "outputs": [
    {
     "name": "stdout",
     "output_type": "stream",
     "text": [
      "[10 20 30]\n"
     ]
    }
   ],
   "source": [
    "#seleccionar el vector y solo los primeros 3 elementos\n",
    "print(vector_10en10[:3])"
   ]
  }
 ],
 "metadata": {
  "kernelspec": {
   "display_name": ".venv",
   "language": "python",
   "name": "python3"
  },
  "language_info": {
   "codemirror_mode": {
    "name": "ipython",
    "version": 3
   },
   "file_extension": ".py",
   "mimetype": "text/x-python",
   "name": "python",
   "nbconvert_exporter": "python",
   "pygments_lexer": "ipython3",
   "version": "3.12.7"
  }
 },
 "nbformat": 4,
 "nbformat_minor": 2
}
