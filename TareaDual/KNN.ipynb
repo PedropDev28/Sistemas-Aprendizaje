{
 "cells": [
  {
   "cell_type": "markdown",
   "metadata": {},
   "source": [
    "<h1>¿Qué es el algoritmo KNN?</h1>\n",
    "Es un algoritmo de <b>clasificación</b>, que funciona identificando los vecinos más cercanos de un punto de consulta determinado para asignarle una etiqueta de clase.<br>\n",
    "Toma el promedio de los vecinos más cercanos para hacer una predicción.<br><br>\n",
    "<b>Es un modelo de \"aprendizaje vago\", no se somete a una etapa de entrenamiento, almacena el conjunto de datos de entrenamiento en memoria.</b>"
   ]
  },
  {
   "cell_type": "markdown",
   "metadata": {},
   "source": [
    "<h2>Aplicaciones</h2>\n",
    "- <b>Preprocesamiento de datos:</b> estimar los valores de datos desconocidos en un conjunto de datos.<br>\n",
    "- <b>Motores de recomendación:</b> recomendaciones automáticas pero no óptimo para conjuntos de datos grandes.<br>\n",
    "- <b>Finanzas:</b> previsiones del mercado bursátil, análisis del blanqueo de dinero...<br>\n",
    "- <b>Sanidad:</b> predicciones de riesgos de ataques cardiacos o cáncer de próstada... Calcula las expresiones genéticas más probables.<br>\n",
    "- <b>Reconocimiento de patrones:</b> identificar números.\n"
   ]
  },
  {
   "cell_type": "markdown",
   "metadata": {},
   "source": [
    "<h2>Ventajas y desventajas</h2>\n",
    "<h3>Ventajas</h3>\n",
    "- Fácil de implementar.<br>\n",
    "- Se adapta fácilmente a nuevas muestras de entrenamiento porque los datos de entrenamiento se almacenan en memoria.<br>\n",
    "- Solo requiere dos hiperparámetros: k y la métrica de distancia.\n",
    "<h3>Desventajas</h3>\n",
    "- Mala escalabilidad porque ocupa más memoria y almacenamiento que otros clasificadores.<br>\n",
    "- Propenso al sobreajuste, sobretodo con valores bajos de k, y con valores k demasiado altos el modelo puede infraajustarse.<br>\n",
    "- No funciona bien con entradas de datos de alta dimensión. Cuando el algoritmo alcanza el número óptico de características, las características adicionales aumentan la cantidad de errores."
   ]
  },
  {
   "cell_type": "markdown",
   "metadata": {},
   "source": [
    "<h2>Hiperparámetros</h2>\n",
    "- <b>Métrica de distancia (p):</b> sirven para calcular la distancia entre el punto de consulta y los demás puntos de datos.<br>\n",
    "- <b>Número de vecinos (k)</b>: define cuántos vecinos se comprobarán para determinar la etiqueta del punto de consulta. Es recomendable que k sea un número impar para evitar empates en la clasificación.<br>\n",
    "<br>\n",
    "<img src=https://machine-learning-tutorial-abi.readthedocs.io/en/latest/_images/knn.png>"
   ]
  },
  {
   "cell_type": "markdown",
   "metadata": {},
   "source": [
    "Las dos métricas de distancia más utilizadas son la <b>distancia euclídea</b> y la <b>distancia de Manhattan</b>.\n"
   ]
  },
  {
   "cell_type": "markdown",
   "metadata": {},
   "source": [
    "<h3>Distancia euclídea. p=2</h3>\n",
    "Mide una línea recta entre el punto de consulta y el otro punto medido.\n"
   ]
  },
  {
   "cell_type": "markdown",
   "metadata": {},
   "source": [
    "<h3>Distancia de Manhattan. p=1</h3>\n",
    "Mide el valor absoluto entre dos puntos."
   ]
  },
  {
   "cell_type": "markdown",
   "metadata": {},
   "source": [
    "<img src=https://uploads-cdn.omnicalculator.com/images/manhattan_distance.png>"
   ]
  },
  {
   "cell_type": "markdown",
   "metadata": {},
   "source": [
    "<h1>Ejemplo con datos introducidos manualmente</h1>"
   ]
  },
  {
   "cell_type": "code",
   "execution_count": 1,
   "metadata": {},
   "outputs": [
    {
     "data": {
      "text/plain": [
       "<function matplotlib.pyplot.show(close=None, block=None)>"
      ]
     },
     "execution_count": 1,
     "metadata": {},
     "output_type": "execute_result"
    },
    {
     "data": {
      "image/png": "[encoded data removed]",
      "text/plain": [
       "<Figure size 640x480 with 1 Axes>"
      ]
     },
     "metadata": {},
     "output_type": "display_data"
    }
   ],
   "source": [
    "# Importamos las librerías\n",
    "import matplotlib.pyplot as plt\n",
    "import pandas as pd\n",
    "from sklearn.neighbors import KNeighborsClassifier\n",
    "\n",
    "# Creamos los datos\n",
    "data = {'Masa': [50, 80, 90, 45, 60],\n",
    "        'Altura': [1.48, 1.82, 1.85, 1.55, 1.60],\n",
    "        'Genero': ['m', 'h', 'h', 'm', 'm']}\n",
    "\n",
    "# Creamos el punto que queremos clasificar\n",
    "newPoint = {'Masa': [70],\n",
    "            'Altura': [1.82]}\n",
    "\n",
    "# Creamos un dataframe con los datos que hemos introducido\n",
    "df = pd.DataFrame(data)\n",
    "newPoint = pd.DataFrame(newPoint)\n",
    "\n",
    "# Representamos gráficamente los datos introducidos\n",
    "ax = plt.axes()\n",
    "ax.scatter(df.loc[df['Genero'] == 'h', 'Masa'],\n",
    "           df.loc[df['Genero'] == 'h', 'Altura'], \n",
    "           c='red', label='Hombre')\n",
    "\n",
    "ax.scatter(df.loc[df['Genero'] == 'm', 'Masa'],\n",
    "           df.loc[df['Genero'] == 'm', 'Altura'],\n",
    "           c='blue', label='Mujer')\n",
    "\n",
    "ax.scatter(newPoint['Masa'],\n",
    "           newPoint['Altura'],\n",
    "           c='black')\n",
    "\n",
    "plt.xlabel('Masa')\n",
    "plt.ylabel('Altura')\n",
    "ax.legend()\n",
    "plt.show"
   ]
  },
  {
   "cell_type": "code",
   "execution_count": 2,
   "metadata": {},
   "outputs": [
    {
     "name": "stderr",
     "output_type": "stream",
     "text": [
      "c:\\Users\\lds98\\AppData\\Local\\Programs\\Python\\Python311\\Lib\\site-packages\\sklearn\\neighbors\\_classification.py:239: DataConversionWarning: A column-vector y was passed when a 1d array was expected. Please change the shape of y to (n_samples,), for example using ravel().\n",
      "  return self._fit(X, y)\n"
     ]
    },
    {
     "name": "stdout",
     "output_type": "stream",
     "text": [
      "['h']\n"
     ]
    }
   ],
   "source": [
    "# Entrenamos el modelo\n",
    "# Skicit utiliza por defecto la distancia métrica euclídea (p=2)\n",
    "knn = KNeighborsClassifier(n_neighbors=3)\n",
    "X = df[['Masa', 'Altura']] # Etiquetas que conocemos del punto de consulta\n",
    "y = df[['Genero']] # Etiqueta a adivinar\n",
    "knn.fit(X, y)\n",
    "prediction = knn.predict(newPoint)\n",
    "print(prediction)"
   ]
  },
  {
   "cell_type": "markdown",
   "metadata": {},
   "source": [
    "Como hemos observado en el gráfico, el punto de consulta es más cercano a los puntos con la etiqueta de 'hombre', y ese es el resultado que ha devuelto nuestro modelo."
   ]
  },
  {
   "cell_type": "markdown",
   "metadata": {},
   "source": [
    "<h1>Ejemplo con CSV</h1>"
   ]
  },
  {
   "cell_type": "code",
   "execution_count": 3,
   "metadata": {},
   "outputs": [
    {
     "data": {
      "text/html": [
       "<div>\n",
       "<style scoped>\n",
       "    .dataframe tbody tr th:only-of-type {\n",
       "        vertical-align: middle;\n",
       "    }\n",
       "\n",
       "    .dataframe tbody tr th {\n",
       "        vertical-align: top;\n",
       "    }\n",
       "\n",
       "    .dataframe thead th {\n",
       "        text-align: right;\n",
       "    }\n",
       "</style>\n",
       "<table border=\"1\" class=\"dataframe\">\n",
       "  <thead>\n",
       "    <tr style=\"text-align: right;\">\n",
       "      <th></th>\n",
       "      <th>Id</th>\n",
       "      <th>SepalLengthCm</th>\n",
       "      <th>SepalWidthCm</th>\n",
       "      <th>PetalLengthCm</th>\n",
       "      <th>PetalWidthCm</th>\n",
       "      <th>Species</th>\n",
       "    </tr>\n",
       "  </thead>\n",
       "  <tbody>\n",
       "    <tr>\n",
       "      <th>0</th>\n",
       "      <td>1</td>\n",
       "      <td>5.1</td>\n",
       "      <td>3.5</td>\n",
       "      <td>1.4</td>\n",
       "      <td>0.2</td>\n",
       "      <td>Iris-setosa</td>\n",
       "    </tr>\n",
       "    <tr>\n",
       "      <th>1</th>\n",
       "      <td>2</td>\n",
       "      <td>4.9</td>\n",
       "      <td>3.0</td>\n",
       "      <td>1.4</td>\n",
       "      <td>0.2</td>\n",
       "      <td>Iris-setosa</td>\n",
       "    </tr>\n",
       "    <tr>\n",
       "      <th>2</th>\n",
       "      <td>3</td>\n",
       "      <td>4.7</td>\n",
       "      <td>3.2</td>\n",
       "      <td>1.3</td>\n",
       "      <td>0.2</td>\n",
       "      <td>Iris-setosa</td>\n",
       "    </tr>\n",
       "    <tr>\n",
       "      <th>3</th>\n",
       "      <td>4</td>\n",
       "      <td>4.6</td>\n",
       "      <td>3.1</td>\n",
       "      <td>1.5</td>\n",
       "      <td>0.2</td>\n",
       "      <td>Iris-setosa</td>\n",
       "    </tr>\n",
       "    <tr>\n",
       "      <th>4</th>\n",
       "      <td>5</td>\n",
       "      <td>5.0</td>\n",
       "      <td>3.6</td>\n",
       "      <td>1.4</td>\n",
       "      <td>0.2</td>\n",
       "      <td>Iris-setosa</td>\n",
       "    </tr>\n",
       "  </tbody>\n",
       "</table>\n",
       "</div>"
      ],
      "text/plain": [
       "   Id  SepalLengthCm  SepalWidthCm  PetalLengthCm  PetalWidthCm      Species\n",
       "0   1            5.1           3.5            1.4           0.2  Iris-setosa\n",
       "1   2            4.9           3.0            1.4           0.2  Iris-setosa\n",
       "2   3            4.7           3.2            1.3           0.2  Iris-setosa\n",
       "3   4            4.6           3.1            1.5           0.2  Iris-setosa\n",
       "4   5            5.0           3.6            1.4           0.2  Iris-setosa"
      ]
     },
     "execution_count": 3,
     "metadata": {},
     "output_type": "execute_result"
    }
   ],
   "source": [
    "# Importamos las librerías\n",
    "import matplotlib.pyplot as plt\n",
    "import pandas as pd\n",
    "from sklearn.neighbors import KNeighborsClassifier\n",
    "\n",
    "# Cargamos nuestro csv\n",
    "data = pd.read_csv('Iris.csv')\n",
    "df = pd.DataFrame(data)\n",
    "\n",
    "# Mostramos la cabecera del dataset para ver las columnas que tenemos\n",
    "df.head()"
   ]
  },
  {
   "cell_type": "code",
   "execution_count": 4,
   "metadata": {},
   "outputs": [
    {
     "data": {
      "text/plain": [
       "{'Iris-setosa', 'Iris-versicolor', 'Iris-virginica'}"
      ]
     },
     "execution_count": 4,
     "metadata": {},
     "output_type": "execute_result"
    }
   ],
   "source": [
    "# Vemos las diferentes especies de iris que tenemos\n",
    "set(df['Species'])"
   ]
  },
  {
   "cell_type": "code",
   "execution_count": 5,
   "metadata": {},
   "outputs": [
    {
     "data": {
      "text/plain": [
       "Id               0\n",
       "SepalLengthCm    0\n",
       "SepalWidthCm     0\n",
       "PetalLengthCm    0\n",
       "PetalWidthCm     0\n",
       "Species          0\n",
       "dtype: int64"
      ]
     },
     "execution_count": 5,
     "metadata": {},
     "output_type": "execute_result"
    }
   ],
   "source": [
    "# Comprobamos si hay valores nulos en el dataset para hacer una limpieza\n",
    "df.isnull().sum()"
   ]
  },
  {
   "cell_type": "code",
   "execution_count": 6,
   "metadata": {},
   "outputs": [
    {
     "name": "stderr",
     "output_type": "stream",
     "text": [
      "c:\\Users\\lds98\\AppData\\Local\\Programs\\Python\\Python311\\Lib\\site-packages\\sklearn\\neighbors\\_classification.py:239: DataConversionWarning: A column-vector y was passed when a 1d array was expected. Please change the shape of y to (n_samples,), for example using ravel().\n",
      "  return self._fit(X, y)\n"
     ]
    },
    {
     "data": {
      "text/plain": [
       "array(['Iris-setosa', 'Iris-virginica', 'Iris-versicolor'], dtype=object)"
      ]
     },
     "execution_count": 6,
     "metadata": {},
     "output_type": "execute_result"
    }
   ],
   "source": [
    "# Creamos nuevos datos y los metemos en un DataFrame\n",
    "newData = {'SepalLengthCm': [5, 7, 6],\n",
    "           'SepalWidthCm': [3, 2, 3],\n",
    "           'PetalLengthCm': [1, 6, 4],\n",
    "           'PetalWidthCm': [0, 1, 2]}\n",
    "\n",
    "newData = pd.DataFrame(newData)\n",
    "\n",
    "# Entrenamos el modelo\n",
    "knn = KNeighborsClassifier(n_neighbors=5)\n",
    "X = df[['SepalLengthCm', 'SepalWidthCm', 'PetalLengthCm', 'PetalWidthCm']] # Ignoramos la columna Id\n",
    "y = df[['Species']]\n",
    "knn.fit(X, y)\n",
    "prediction = knn.predict(newData)\n",
    "prediction"
   ]
  },
  {
   "cell_type": "markdown",
   "metadata": {},
   "source": [
    "Ahora representaremos visualmente los datos del dataset y los datos que hemos creado para comprobar que la predicción concuerda con lo esperado."
   ]
  },
  {
   "cell_type": "code",
   "execution_count": 7,
   "metadata": {},
   "outputs": [
    {
     "data": {
      "text/plain": [
       "<function matplotlib.pyplot.show(close=None, block=None)>"
      ]
     },
     "execution_count": 7,
     "metadata": {},
     "output_type": "execute_result"
    },
    {
     "data": {
      "image/png": "[encoded data removed]",
      "text/plain": [
       "<Figure size 640x480 with 1 Axes>"
      ]
     },
     "metadata": {},
     "output_type": "display_data"
    }
   ],
   "source": [
    "# Representamos gráficamente los datos introducidos\n",
    "# Hacemos una media de la altura y ancho de los sépalos y los pétalos para representarlos gráficamente\n",
    "df['Sepal'] = df['SepalLengthCm']*df['SepalWidthCm']/2\n",
    "df['Petal'] = df['PetalLengthCm']*df['PetalWidthCm']/2\n",
    "\n",
    "ax = plt.axes()\n",
    "ax.scatter(df.loc[df['Species'] == 'Iris-versicolor', 'Sepal'],\n",
    "           df.loc[df['Species'] == 'Iris-versicolor', 'Petal'],\n",
    "           c='green', label='Iris versicolor')\n",
    "\n",
    "ax.scatter(df.loc[df['Species'] == 'Iris-virginica', 'Sepal'],\n",
    "           df.loc[df['Species'] == 'Iris-virginica', 'Petal'],\n",
    "           c='purple', label='Iris virginica')\n",
    "\n",
    "ax.scatter(df.loc[df['Species'] == 'Iris-setosa', 'Sepal'],\n",
    "           df.loc[df['Species'] == 'Iris-setosa', 'Petal'],\n",
    "           c='blue', label='Iris setosa')\n",
    "\n",
    "# Hacemos la media para los nuevos datos también\n",
    "newData['Sepal'] = newData['SepalLengthCm']*newData['SepalWidthCm']/2\n",
    "newData['Petal'] = newData['PetalLengthCm']*newData['PetalWidthCm']/2\n",
    "\n",
    "ax.scatter(newData['Sepal'],\n",
    "           newData['Petal'],\n",
    "           c='black')\n",
    "\n",
    "plt.xlabel('Sepal')\n",
    "plt.ylabel('Petal')\n",
    "ax.legend()\n",
    "plt.show"
   ]
  }
 ],
 "metadata": {
  "kernelspec": {
   "display_name": "Python 3",
   "language": "python",
   "name": "python3"
  },
  "language_info": {
   "codemirror_mode": {
    "name": "ipython",
    "version": 3
   },
   "file_extension": ".py",
   "mimetype": "text/x-python",
   "name": "python",
   "nbconvert_exporter": "python",
   "pygments_lexer": "ipython3",
   "version": "3.11.0"
  }
 },
 "nbformat": 4,
 "nbformat_minor": 2
}
